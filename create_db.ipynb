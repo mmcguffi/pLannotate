{
 "cells": [
  {
   "cell_type": "code",
   "execution_count": 77,
   "metadata": {},
   "outputs": [
    {
     "name": "stdout",
     "output_type": "stream",
     "text": [
      "The autoreload extension is already loaded. To reload it, use:\n",
      "  %reload_ext autoreload\n"
     ]
    }
   ],
   "source": [
    "from tempfile import gettempdir, NamedTemporaryFile\n",
    "import biotite.database.entrez as entrez\n",
    "import biotite.sequence.io.fasta as fasta\n",
    "from biotite.sequence import NucleotideSequence\n",
    "from tqdm import tqdm\n",
    "from plannotate.resources import get_resource\n",
    "import pandas as pd\n",
    "import subprocess\n",
    "%load_ext autoreload\n",
    "%autoreload 2\n",
    "\n",
    "def parse_pipe(sseqid):\n",
    "    if '|' in sseqid:\n",
    "        return sseqid.split('|')[1]\n",
    "    else:\n",
    "        return sseqid"
   ]
  },
  {
   "attachments": {},
   "cell_type": "markdown",
   "metadata": {},
   "source": [
    "# search NCBI"
   ]
  },
  {
   "cell_type": "code",
   "execution_count": 82,
   "metadata": {},
   "outputs": [],
   "source": [
    "gis = entrez.search(\n",
    "    entrez.SimpleQuery(\"Channelrhodopsin\"),\n",
    "    db_name=\"protein\",\n",
    "    number=150,\n",
    "    )"
   ]
  },
  {
   "cell_type": "code",
   "execution_count": 83,
   "metadata": {},
   "outputs": [
    {
     "name": "stderr",
     "output_type": "stream",
     "text": [
      "100%|██████████| 150/150 [00:00<00:00, 9773.29it/s]\n"
     ]
    }
   ],
   "source": [
    "filepaths = entrez.fetch(gis, gettempdir(), suffix=\"fa\",\n",
    "    db_name=\"protein\", ret_type=\"fasta\")\n",
    "\n",
    "recs = []\n",
    "for fp in tqdm(filepaths):\n",
    "    recs.append(fasta.FastaFile.read(fp))"
   ]
  },
  {
   "cell_type": "code",
   "execution_count": 84,
   "metadata": {},
   "outputs": [],
   "source": [
    "# recs = []"
   ]
  },
  {
   "cell_type": "code",
   "execution_count": 85,
   "metadata": {},
   "outputs": [],
   "source": [
    "new_fasta = fasta.FastaFile()\n",
    "for rec in recs:\n",
    "    new_fasta.update(rec)"
   ]
  },
  {
   "attachments": {},
   "cell_type": "markdown",
   "metadata": {},
   "source": [
    "# add custom sequences"
   ]
  },
  {
   "cell_type": "code",
   "execution_count": 88,
   "metadata": {},
   "outputs": [],
   "source": [
    "customs = {\n",
    "    'stanford-ts':  'aagagcaggatcaccagcgagggcgagtacatccccctggaccagatcgacatcaacgtg',\n",
    "    'kv2.1-ts': 'cagtcccagcccatcctcaacaccaaggagatggccccgcagagcaagcctccagaggagctggagatgagcagcatgcccagccccgtggcccctctgcccgcacgcacggagggcgtcatcgacatgcggagcatgtccagcattgacagcttcatcagctgtgccacggacttccctgaagccaccagattc',\n",
    "    'HA-tag': 'tacccatacgatgttccagattacgcttaa',\n",
    "    'p2A-linker': 'gccacgaacttctctctgttaaagcaagcaggagacgtggaagaaaaccccggtccc',\n",
    "    'GCaMP6m': 'atggtggactcatcacgtcgtaagtggaataagacaggtcacgcagtcagagctataggtcggctgagctcactcgagaacgtctatatcaaggccgacaagcagaagaacggcatcaaggcgaacttcaagatccgccacaacatcgaggacggcggcgtgcagctcgcctaccactaccagcagaacacccccatcggcgacggccccgtgctgctgcccgacaaccactacctgagcgtgcagtccaaactttcgaaagaccccaacgagaagcgcgatcacatggtcctgctggagttcgtgaccgccgccgggatcactctcggcatggacgagctgtacaagggcggtaccggagggagcatggtgagcaagggcgaggagctgttcaccggggtggtgcccatcctggtcgagctggacggcgacgtaaacggccacaagttcagcgtgtccggcgagggtgagggcgatgccacctacggcaagctgaccctgaagttcatctgcaccaccggcaagctgcccgtgccctggcccaccctcgtgaccaccctgacctacggcgtgcagtgcttcagccgctaccccgaccacatgaagcagcacgacttcttcaagtccgccatgcccgaaggctacatccaggagcgcaccatcttcttcaaggacgacggcaactacaagacccgcgccgaggtgaagttcgagggcgacaccctggtgaaccgcatcgagctgaagggcatcgacttcaaggaggacggcaacatcctggggcacaagctggagtacaacctgccggaccaactgactgaagagcagatcgcagaatttaaagaggctttctccctatttgacaaggacggggatgggacaataacaaccaaggagctggggacggtgatgcggtctctggggcagaaccccacagaagcagagctgcaggacatgatcaatgaagtagatgccgacggtgacggcacaatcgacttccctgagttcctgacaatgatggcaagaaaagggagctacagggacacggaagaagaaattagagaagcgttcggtgtgtttgataaggatggcaatggctacatcagtgcagcagagcttcgccacgtgatgacaaaccttggagagaagttaacagatgaagaggttgatgaaatgatcagggaagcagacatcgatggggatggtcaggtaaactacgaagagtttgtacaaatgatgacagcgaag',\n",
    "    'FLASH': 'atgagcagcattacttgcgacccagccatctacggggagtggtcccgcgaaaaccagttctgcgtggagaagtctctgattaccctggatggaatcaaatatgtgcagctggtcatggcagtggtctctgcctgccaggtgttctttatggtcacccgggcccccaaggtgccttgggaggcaatctacctgcccaccacagaaatgatcacctatagtctggcctttacaggcaacgggtacatccaggtggctaatggcaaatatctgccttgggccaggatggccagctggctgtgcacatgtccaatcatgctggggctggtgtctaacatggccctggtcaagtacaaaagtattccactgaatcccatgatgattgccgcttctagtatctgcacagtgttcggcatcactgccagcgtggtcctggaccctctgcacgtgtggctgtactgtttcatctcaagcattttctttatcttcgagatggtggtcgcattcgccatttttgccatcactattcatgattttcagaccatcggaagccccatgtccctgaaggtggtcgaacggctgaaactgatgagaatcgtgttctacgtgagctggatggcatatcctatcctgtggagcttttcctctacaggggcctgcattatgtccgagaacaccagcagcgtgctgtacctgctgggcgacgccctgtgcaagcagacatatggcatcctgctgtgggcaactacctggggactgctgaacggcaagtgggaccgagattacgtgaaagggcggaacgtggacggaactctgatgcccgagtacgaacaggatctggagaaagga',\n",
    "    'iC++': 'atggactatggcggcgctttgtctgccgtcggactcttccaaacctcatacactcttgagaacaatggttctgttatttgcatcccgaacaacggccagtgcttctgcttggcttggcttaaatccaacggaacaaatgccgagaagttggctgccaacattctgcagtggatttcttttgcgctttcagcgctctgcctgatgttctacggctaccagacctggaagtctacttgcggctgggagaatatttacgtggccacgatccagatgatcaagttcatcatcgagtatttccatagctttgacgaacctgcggtgatctactcatccaacggcaacaagaccaggtggcttcgttacgcgagctggctgctgacctgccctgtcattcttatccacctgagcaaccttacgggtctggcgaacgactataacaagcgtaccatgggtctgctggtgtcagatatcggcacgatcgtgtggggcaccacggccgcgctgtccaagggatacgtccgtgtcattttcttcctgatgggcctgtgctacggcatctacacattcttcaacgcagccaaggtctacattgaggcgtaccacaccgtgccgaagggccggtgtcgccaggtggtgactggcatggcttggctcttcttcgtatcatggggtatgttccccatcctgttcatcctcggccccgagggcttcggcgtcctgagcaggtacggctccaacgtcggccacaccatcattgacctgatgtcgaagcagtgctggggtctgctcggccactacctgcgcgtgctgatccacagccatatcctcatccacggcgacattcgcaagaccaccaaattgaacattggtggcactgagattgaggtcgagacgctggtggaggacgaggccgaggctggcgcggtc',\n",
    "    'SwiChR++': 'atggactatggcggcgctttgtctgccgtcggactcttccaaacctcatacactcttgagaacaatggttctgttatttgcatcccgaacaacggccagtgcttctgcttggcttggcttaaatccaacggaacaaatgccgagaagttggctgccaacattctgcagtggatttcttttgcgctttcagcgctctgcctgatgttctacggctaccagacctggaagtctacttgcggctgggagaatatttacgtggccacgatccagatgatcaagttcatcatcgagtatttccatagctttgacgaacctgcggtgatctactcatccaacggcaacaagaccaggtggcttcgttacgcgagctggctgctgaccgcccctgtcattcttatccacctgagcaaccttacgggtctggcgaacgactataacaagcgtaccatgggtctgctggtgtcagatatcggcacgatcgtgtggggcaccacggccgcgctgtccaagggatacgtccgtgtcattttcttcctgatgggcctgtgctacggcatctacacattcttcaacgcagccaaggtctacattgaggcgtaccacaccgtgccgaagggccggtgtcgccaggtggtgactggcatggcttggctcttcttcgtatcatggggtatgttccccatcctgttcatcctcggccccgagggcttcggcgtcctgagcaggtacggctccaacgtcggccacaccatcattgacctgatgtcgaagcagtgctggggtctgctcggccactacctgcgcgtgctgatccacagccatatcctcatccacggcgacattcgcaagaccaccaaattgaacattggtggcactgagattgaggtcgagacgctggtggaggacgaggccgaggctggcgcggtc',\n",
    "    'VChR1': 'atggattaccctgttgctagaagcctcatagttcgctacccaaccgacctcggaaacggcaccgtctgcatgccaagaggacagtgttactgtgaaggttggcttcggagtcgcggcacttccattgaaaagacaatagcaattactcttcagtgggtagtctttgctttgtcagtggcttgcctggggtggtatgcgtatcaagcgtggcgagctacctgcggatgggaggaggtttacgtagccttgatagaaatgatgaaaagcatcatcgaggccttccacgagttcgacagccctgcaacactgtggctgtcttcagggaacggcgtagtttggatgcggtatggcgaatggctcctcacctgcccggtccttctgatccatctgagcaacctcacaggcctgaaggacgattatagcaaaaggactatgggcctgttggtttctgatgtgggatgcatcgtgtggggcgcaaccagcgccatgtgtacggggtggacgaagatcctgttcttcctcatctcattgagctatggtatgtatacctattttcatgctgctaaagtttatatcgaagcattccacacagttccaaaagggatttgtcgagaactggtccgagtgatggcctggacattctttgtggcttggggaatgtttccagtcctgtttctgctgggcacggaaggattcggtcatatcagcccttatggatctgccattgggcactccatcctcgacctgattgcaaagaacatgtggggtgtgctggggaattacctgcgcgtcaaaatccacgagcacatcctgttgtatggcgacatcagaaagaagcagaaaattacgatcgccggccaagagatggaggttgagacactggtggctgaagaggaggac',\n",
    "    'bReaches': 'atggactatggcggcgctttgtctgccgtcggactgttccagaccagctacaccctggagaacaacggcagcgtgatctgcatccccaacaacggccagtgcttctgcctggcctggctgaagagtaacggcaccaacgccgagaagctggccgccaacatcctgcagtgggtggtgtttgcgctgagcgtggcgtgcctgggctggtatgcgtatcaggcgtggcgcgcgacctgcggctgggaagaagtgtatgtggcgctgattgaaatgatgaaaagcattattgaagcgtttcatgaatttgatagcccggcgaccctgtggctgagcagcggcaacggcgtggtgtggatgcgctatggctcatggctgctgacctgccccgtgattctgattcatctgagcaacctgaccggcctgaaagatgattatagcaaacgcaccatgggcctgctggtgagcgacgtgggctgcattgtgtggggcgcgaccagcgcgatgtgcaccggctggaccaaaattctgttttttctgattagcctgagctatggcatgtatacctattttcatgcggccaaagtgtatattgaagcgtttcataccgtgccgaaaggcctgtgcagacagctggtgagagccatggcctggctgttcttcgtgagctggggcatgttccccgtgctgttcctgctgggccccgagggcttcggccatattagcccgtatggcagcgcgattggccatagcattctggatctgattgcgaagaacatgtggggcgtgctgggcaactatctgcgcgtgaaaattcatgaacatattctgctgtatggcgatattcgcaaaaaacagaaaattaccattgcgggccaggaaatggaagtggaaaccctggtggcggaagaagaagat',\n",
    "    'C1V1': 'atgtcgcggaggccatggcttcttgccctagcgctggcagtggcgctggcggccggcagcgcaggagcctcgactggcagtgacgcgacggtgccggtcgcgactcaggatggccccgactacgttttccaccgtgcccacgagcgcatgctcttccaaacctcatacactcttgagaacaatggttctgttatttgcatcccgaacaacggccagtgcttctgcttggcttggcttaaatccaacggaacaaatgccgagaagttggctgccaacattctgcagtggattacttttgcgctttcagcgctctgcctgatgttctacggctaccagacctggaagtctacttgcggctgggaggagatttacgtggccacgatcgagatgatcaagttcatcatcgagtatttccatgagtttgacgaacctgcggtgatctactcatccaacggcaacaagaccgtgtggcttcgttacgcggagtggctgctcacctgcccggtccttctgatccatctgagcaacctcacaggcctgaaggacgattatagcaaaaggactatgggcctgttggtttctgatgtgggatgcatcgtgtggggcgcaaccagcgccatgtgtacggggtggacgaagatcctgttcttcctcatctcattgagctatggtatgtatacctattttcatgctgctaaagtttatatcgaagcattccacacagttccaaaagggatttgtcgagaactggtccgagtgatggcctggacattctttgtggcttggggaatgtttccagtcctgtttctgctgggcacggaaggattcggtcatatcagcccttatggatctgccattgggcactccatcctcgacctgattgcaaagaacatgtggggtgtgctggggaattacctgcgcgtcaaaatccacgagcacatcctgttgtatggcgacatcagaaagaagcagaaaattacgatcgccggccaagagatggaggttgagacactggtggctgaagaggaggac',\n",
    "    'C1V1(E122T)': 'atgtcgcggaggccatggcttcttgccctagcgctggcagtggcgctggcggccggcagcgcaggagcctcgactggcagtgacgcgacggtgccggtcgcgactcaggatggccccgactacgttttccaccgtgcccacgagcgcatgctcttccaaacctcatacactcttgagaacaatggttctgttatttgcatcccgaacaacggccagtgcttctgcttggcttggcttaaatccaacggaacaaatgccgagaagttggctgccaacattctgcagtggattacttttgcgctttcagcgctctgcctgatgttctacggctaccagacctggaagtctacttgcggctgggagaccatttacgtggccacgatcgagatgatcaagttcatcatcgagtatttccatgagtttgacgaacctgcggtgatctactcatccaacggcaacaagaccgtgtggcttcgttacgcgacctggctgctcacctgcccggtccttctgatccatctgagcaacctcacaggcctgaaggacgattatagcaaaaggactatgggcctgttggtttctgatgtgggatgcatcgtgtggggcgcaaccagcgccatgtgtacggggtggacgaagatcctgttcttcctcatctcattgagctatggtatgtatacctattttcatgctgctaaagtttatatcgaagcattccacacagttccaaaagggatttgtcgagaactggtccgagtgatggcctggacattctttgtggcttggggaatgtttccagtcctgtttctgctgggcacggaaggattcggtcatatcagcccttatggatctgccattgggcactccatcctcgacctgattgcaaagaacatgtggggtgtgctggggaattacctgcgcgtcaaaatccacgagcacatcctgttgtatggcgacatcagaaagaagcagaaaattacgatcgccggccaagagatggaggttgagacactggtggctgaagaggaggac',\n",
    "    'C1V1(E162T)': 'atgtcgcggaggccatggcttcttgccctagcgctggcagtggcgctggcggccggcagcgcaggagcctcgactggcagtgacgcgacggtgccggtcgcgactcaggatggccccgactacgttttccaccgtgcccacgagcgcatgctcttccaaacctcatacactcttgagaacaatggttctgttatttgcatcccgaacaacggccagtgcttctgcttggcttggcttaaatccaacggaacaaatgccgagaagttggctgccaacattctgcagtggattacttttgcgctttcagcgctctgcctgatgttctacggctaccagacctggaagtctacttgcggctgggaggagatttacgtggccacgatcgagatgatcaagttcatcatcgagtatttccatgagtttgacgaacctgcggtgatctactcatccaacggcaacaagaccgtgtggcttcgttacgcgacctggctgctcacctgcccggtccttctgatccatctgagcaacctcacaggcctgaaggacgattatagcaaaaggactatgggcctgttggtttctgatgtgggatgcatcgtgtggggcgcaaccagcgccatgtgtacggggtggacgaagatcctgttcttcctcatctcattgagctatggtatgtatacctattttcatgctgctaaagtttatatcgaagcattccacacagttccaaaagggatttgtcgagaactggtccgagtgatggcctggacattctttgtggcttggggaatgtttccagtcctgtttctgctgggcacggaaggattcggtcatatcagcccttatggatctgccattgggcactccatcctcgacctgattgcaaagaacatgtggggtgtgctggggaattacctgcgcgtcaaaatccacgagcacatcctgttgtatggcgacatcagaaagaagcagaaaattacgatcgccggccaagagatggaggttgagacactggtggctgaagaggaggac',\n",
    "    'C1V1(E122T/E162T)': 'atgtcgcggaggccatggcttcttgccctagcgctggcagtggcgctggcggccggcagcgcaggagcctcgactggcagtgacgcgacggtgccggtcgcgactcaggatggccccgactacgttttccaccgtgcccacgagcgcatgctcttccaaacctcatacactcttgagaacaatggttctgttatttgcatcccgaacaacggccagtgcttctgcttggcttggcttaaatccaacggaacaaatgccgagaagttggctgccaacattctgcagtggattacttttgcgctttcagcgctctgcctgatgttctacggctaccagacctggaagtctacttgcggctgggagaccatttacgtggccacgatcgagatgatcaagttcatcatcgagtatttccatgagtttgacgaacctgcggtgatctactcatccaacggcaacaagaccgtgtggcttcgttacgcgacctggctgctcacctgcccggtccttctgatccatctgagcaacctcacaggcctgaaggacgattatagcaaaaggactatgggcctgttggtttctgatgtgggatgcatcgtgtggggcgcaaccagcgccatgtgtacggggtggacgaagatcctgttcttcctcatctcattgagctatggtatgtatacctattttcatgctgctaaagtttatatcgaagcattccacacagttccaaaagggatttgtcgagaactggtccgagtgatggcctggacattctttgtggcttggggaatgtttccagtcctgtttctgctgggcacggaaggattcggtcatatcagcccttatggatctgccattgggcactccatcctcgacctgattgcaaagaacatgtggggtgtgctggggaattacctgcgcgtcaaaatccacgagcacatcctgttgtatggcgacatcagaaagaagcagaaaattacgatcgccggccaagagatggaggttgagacactggtggctgaagaggaggac',\n",
    "    'SSFO-hChR2(C128S/D156A)': 'atggactatggcggcgctttgtctgccgtcggacgcgaacttttgttcgttactaatcctgtggtggtgaacgggtccgtcctggtccctgaggatcaatgttactgtgccggatggattgaatctcgcggcacgaacggcgctcagaccgcgtcaaatgtcctgcagtggcttgcagcaggattcagcattttgctgctgatgttctatgcctaccaaacctggaaatctacatgcggctgggaggagatctatgtgtgcgccattgaaatggttaaggtgattctcgagttcttttttgagtttaagaatccctctatgctctaccttgccacaggacaccgggtgcagtggctgcgctatgcagagtggctgctcacttctcctgtcatccttatccacctgagcaacctcaccggcctgagcaacgactacagcaggagaaccatgggactccttgtctcagccatcgggactatcgtgtggggggctaccagcgccatggcaaccggctatgttaaagtcatcttcttttgtcttggattgtgctatggcgcgaacacattttttcacgccgccaaagcatatatcgagggttatcatactgtgccaaagggtcggtgccgccaggtcgtgaccggcatggcatggctgtttttcgtgagctggggtatgttcccaattctcttcattttggggcccgaaggttttggcgtcctgagcgtctatggctccaccgtaggtcacacgattattgatctgatgagtaaaaattgttgggggttgttgggacactacctgcgcgtcctgatccacgagcacatattgattcacggagatatccgcaaaaccaccaaactgaacatcggcggaacggagatcgaggtcgagactctcgtcgaagacgaagccgaggccggagccgtgcca',\n",
    "    'hChR2(E123A)': 'atggactatggcggcgctttgtctgccgtcggacgcgaacttttgttcgttactaatcctgtggtggtgaacgggtccgtcctggtccctgaggatcaatgttactgtgccggatggattgaatctcgcggcacgaacggcgctcagaccgcgtcaaatgtcctgcagtggcttgcagcaggattcagcattttgctgctgatgttctatgcctaccaaacctggaaatctacatgcggctgggaggagatctatgtgtgcgccattgaaatggttaaggtgattctcgagttcttttttgagtttaagaatccctctatgctctaccttgccacaggacaccgggtgcagtggctgcgctatgcagagtggctgctcacttctcctgtcatccttatccacctgagcaacctcaccggcctgagcaacgactacagcaggagaaccatgggactccttgtctcagccatcgggactatcgtgtggggggctaccagcgccatggcaaccggctatgttaaagtcatcttcttttgtcttggattgtgctatggcgcgaacacattttttcacgccgccaaagcatatatcgagggttatcatactgtgccaaagggtcggtgccgccaggtcgtgaccggcatggcatggctgtttttcgtgagctggggtatgttcccaattctcttcattttggggcccgaaggttttggcgtcctgagcgtctatggctccaccgtaggtcacacgattattgatctgatgagtaaaaattgttgggggttgttgggacactacctgcgcgtcctgatccacgagcacatattgattcacggagatatccgcaaaaccaccaaactgaacatcggcggaacggagatcgaggtcgagactctcgtcgaagacgaagccgaggccggagccgtgcca',\n",
    "    'hChR2(E123T/T159C)': 'atggactatggcggcgctttgtctgccgtcggacgcgaacttttgttcgttactaatcctgtggtggtgaacgggtccgtcctggtccctgaggatcaatgttactgtgccggatggattgaatctcgcggcacgaacggcgctcagaccgcgtcaaatgtcctgcagtggcttgcagcaggattcagcattttgctgctgatgttctatgcctaccaaacctggaaatctacatgcggctgggaggagatctatgtgtgcgccattgaaatggttaaggtgattctcgagttcttttttgagtttaagaatccctctatgctctaccttgccacaggacaccgggtgcagtggctgcgctatgcaacctggctgctcacttgtcctgtcatccttatccacctgagcaacctcaccggcctgagcaacgactacagcaggagaaccatgggactccttgtctcagacatcgggtgtatcgtgtggggggctaccagcgccatggcaaccggctatgttaaagtcatcttcttttgtcttggattgtgctatggcgcgaacacattttttcacgccgccaaagcatatatcgagggttatcatactgtgccaaagggtcggtgccgccaggtcgtgaccggcatggcatggctgtttttcgtgagctggggtatgttcccaattctcttcattttggggcccgaaggttttggcgtcctgagcgtctatggctccaccgtaggtcacacgattattgatctgatgagtaaaaattgttgggggttgttgggacactacctgcgcgtcctgatccacgagcacatattgattcacggagatatccgcaaaaccaccaaactgaacatcggcggaacggagatcgaggtcgagactctcgtcgaagacgaagccgaggccggagccgtgcca',\n",
    "    'hChR2(T159C)': 'atggactatggcggcgctttgtctgccgtcggacgcgaacttttgttcgttactaatcctgtggtggtgaacgggtccgtcctggtccctgaggatcaatgttactgtgccggatggattgaatctcgcggcacgaacggcgctcagaccgcgtcaaatgtcctgcagtggcttgcagcaggattcagcattttgctgctgatgttctatgcctaccaaacctggaaatctacatgcggctgggaggagatctatgtgtgcgccattgaaatggttaaggtgattctcgagttcttttttgagtttaagaatccctctatgctctaccttgccacaggacaccgggtgcagtggctgcgctatgcagagtggctgctcacttgtcctgtcatccttatccacctgagcaacctcaccggcctgagcaacgactacagcaggagaaccatgggactccttgtctcagacatcgggtgtatcgtgtggggggctaccagcgccatggcaaccggctatgttaaagtcatcttcttttgtcttggattgtgctatggcgcgaacacattttttcacgccgccaaagcatatatcgagggttatcatactgtgccaaagggtcggtgccgccaggtcgtgaccggcatggcatggctgtttttcgtgagctggggtatgttcccaattctcttcattttggggcccgaaggttttggcgtcctgagcgtctatggctccaccgtaggtcacacgattattgatctgatgagtaaaaattgttgggggttgttgggacactacctgcgcgtcctgatccacgagcacatattgattcacggagatatccgcaaaaccaccaaactgaacatcggcggaacggagatcgaggtcgagactctcgtcgaagacgaagccgaggccggagccgtgcca',\n",
    "    'eNpHR-3.0': 'atgacagagaccctgcctcccgtgaccgagagtgccgtggcccttcaagccgaggttacccaaagggagttgttcgagttcgtgctgaacgaccctttgcttgcaagcagtctctatatcaacatcgcacttgcaggactgagtatactgctgttcgtttttatgacccgaggactcgatgatccacgggcaaaacttattgctgtgtcaaccatccttgtgcctgtcgtcagcattgcctcctacactggattggcgagcggcctgacaatttccgttcttgaaatgccagcgggccattttgcagaaggcagctcagtgatgctgggaggagaagaggtagatggtgtagtcaccatgtggggacggtatctcacctgggcactttccacgcccatgattctcctcgctctgggtctcctggccggaagcaatgctacaaagctcttcacagctatcactttcgatatcgctatgtgcgtgactggccttgccgcggccctgactacctcctcccacctcatgagatggttctggtacgctatcagttgtgcatgctttctggtggtcttgtatatcctgctggtggagtgggcacaggacgccaaagccgcgggaaccgctgacatgttcaataccctgaagctgttgacagtagtgatgtggctggggtatccaattgtgtgggctcttggagtcgagggtatcgcggtgttgcccgttggggtgacgagctggggatattctttcctggatatcgtggcaaagtacattttcgcattcttgctcctgaactatctgacgtcaaacgaatctgtcgtgtccggcagcattttggatgttccatctgcttctgggaccccggctgatgat',\n",
    "    'eArch-3.0': 'atggaccccatcgctctgcaggctggttacgacctgctgggtgacggcagacctgaaactctgtggctgggcatcggcactctgctgatgctgattggaaccttctactttctggtccgcggatggggagtcaccgataaggatgcccgggaatattacgctgtgactatcctggtgcccggaatcgcatccgccgcatatctgtctatgttctttggtatcgggcttactgaggtgaccgtcgggggcgaaatgttggatatctattatgccaggtacgccgactggctgtttaccaccccacttctgctgctggatctggcccttctcgctaaggtggatcgggtgaccatcggcaccctggtgggtgtggacgccctgatgatcgtcactggcctcatcggagccttgagccacacggccatagccagatacagttggtggttgttctctacaatttgcatgatagtggtgctctattttctggctacatccctgcgatctgctgcaaaggagcggggccccgaggtggcatctacctttaacaccctgacagctctggtcttggtgctgtggaccgcttaccctatcctgtggatcataggcactgagggcgctggcgtggtgggcctgggcatcgaaactctgctgtttatggtgttggacgtgactgccaaggtcggctttggctttatcctgttgagatcccgggctattctgggcgacaccgaggcaccagaacccagtgccggtgccgatgtcagtgccgccgac',\n",
    "    'eMac-3.0': 'atgatcgtggaccagttcgaggaggtgctgatgaagaccagccagctgttcccactgccaaccgctacccagagcgcccagccaacccacgtggcccccgtgccaaccgtgctgcccgacacccccatctacgagaccgtgggcgacagcggcagcaagaccctgtgggtggtgttcgtgctgatgctgatcgccagcgccgccttcaccgccctgagctggaagatccccgtgaacaggaggctgtaccacgtgatcaccaccatcatcaccctgaccgccgccctgagctacttcgctatggctaccggccacggagtggccctgaacaagatcgtgatcaggacccagcacgaccacgtgcccgacacctacgagaccgtgtaccgacaggtgtactacgccaggtacatcgactgggctatcaccaccccactgctgctgctggacctgggactgctggctggaatgagcggagcccacatcttcatggccatcgtggctgacctgatcatggtgctgaccggcctgttcgctgctttcggcagcgagggaaccccacagaagtggggatggtacaccatcgcctgcatcgcctacatcttcgtggtgtggcacctggtgctgaacggcggcgccaacgccagggtgaagggcgagaagctgaggagcttcttcgtggccatcggagcttacaccctgatcctgtggaccgcttacccaatcgtgtggggactggctgacggagctaggaagatcggagtggacggagagatcatcgcttacgctgtgctggacgtgctggctaagggagtgttcggagcttggctgctggtgacccacgccaacctgagggagagcgacgtggagctgaacggcttctgggccaacggcctgaacagggagggcgccatcaggatcggcgaggacgacggcgcc',\n",
    "    'CHETA-hChR2(E123T/H134R)': 'atggattatggaggcgccctgagtgccgttgggcgcgagctgctatttgtaacgaacccagtagtcgtcaatggctctgtacttgtgcctgaggaccagtgttactgcgcgggctggattgagtcgcgtggcacaaacggtgcccaaacggcgtcgaacgtgctgcaatggcttgctgctggcttctccatcctactgcttatgttttacgcctaccaaacatggaagtcaacctgcggctgggaggagatctatgtgtgcgctatcgagatggtcaaggtgattctcgagttcttcttcgagtttaagaacccgtccatgctgtatctagccacaggccaccgcgtccagtggttgcgttacgccacctggcttctcacctgcccggtcattctcattcgcctgtcaaacctgacgggcttgtccaacgactacagcaggcgcaccatgggtctgcttgtgtctgatattggcacaattgtgtggggcgccacttccgccatggccaccggatacgtcaaggtcatcttcttctgcctgggtctgtgttatggtgctaacacgttctttcacgctgccaaggcctacatcgagggttaccacaccgtgccgaagggccggtgtcgccaggtggtgactggcatggcttggctcttcttcgtatcatggggtatgttccccatcctgttcatcctcggccccgagggcttcggcgtcctgagcgtgtacggctccaccgtcggccacaccatcattgacctgatgtcgaagaactgctggggtctgctcggccactacctgcgcgtgctgatccacgagcatatcctcatccacggcgacattcgcaagaccaccaaattgaacattggtggcactgagattgaggtcgagacgctggtggaggacgaggccgaggctggcgcggtaccc',\n",
    "    'eNpHR-2.0': 'atgaggggtacgcccctgctcctcgtcgtctctctgttctctctgcttcaggacacagagaccctgcctcccgtgaccgagagtgccgtggcccttcaagccgaggttacccaaagggagttgttcgagttcgtgctgaacgaccctttgcttgcaagcagtctctatatcaacatcgcacttgcaggactgagtatactgctgttcgtttttatgacccgaggactcgatgatccacgggcaaaacttattgctgtgtcaaccatccttgtgcctgtcgtcagcattgcctcctacactggattggcgagcggcctgacaatttccgttcttgaaatgccagcgggccattttgcagaaggcagctcagtgatgctgggaggagaagaggtagatggtgtagtcaccatgtggggacggtatctcacctgggcactttccacgcccatgattctcctcgctctgggtctcctggccggaagcaatgctacaaagctcttcacagctatcactttcgatatcgctatgtgcgtgactggccttgccgcggccctgactacctcctcccacctcatgagatggttctggtacgctatcagttgtgcatgctttctggtggtcttgtatatcctgctggtggagtgggcacaggacgccaaagccgcgggaaccgctgacatgttcaataccctgaagctgttgacagtagtgatgtggctggggtatccaattgtgtgggctcttggagtcgagggtatcgcggtgttgcccgttggggtgacgagctggggatattctttcctggatatcgtggcaaagtacattttcgcattcttgctcctgaactatctgacgtcaaacgaatctgtcgtgtccggcagcattttggatgttccatctgcttctgggaccccggctgatgat',\n",
    "    \n",
    "}\n",
    "translated = {}\n",
    "for k,v in customs.items():\n",
    "    # translate to amino acids\n",
    "    aa = NucleotideSequence(v).translate(complete=True)\n",
    "    translated[k] = str(aa)\n",
    "\n",
    "new_fasta.update(translated)"
   ]
  },
  {
   "cell_type": "code",
   "execution_count": 89,
   "metadata": {},
   "outputs": [],
   "source": [
    "filtered = {k:v for k, v in new_fasta.items() if not k.startswith('QWX')}\n",
    "new_fasta = fasta.FastaFile()\n",
    "new_fasta.update(filtered)"
   ]
  },
  {
   "attachments": {},
   "cell_type": "markdown",
   "metadata": {},
   "source": [
    "# make dataframe for csv"
   ]
  },
  {
   "cell_type": "code",
   "execution_count": 90,
   "metadata": {},
   "outputs": [],
   "source": [
    "df = pd.DataFrame({'sseqid': list(new_fasta.keys()), 'Feature': list(new_fasta.keys()), 'Description': list(new_fasta.keys())})\n",
    "df['sseqid'] = df['sseqid'].str.split(\" \", n=2, expand=True)[0]\n",
    "\n",
    "\n",
    "df['sseqid'] = df['sseqid'].apply(parse_pipe)\n",
    "problem_name = \"pdb\\|(.*)\\|\"\n",
    "df['sseqid'] = df['sseqid'].str.replace(problem_name, r\"\\1\", regex=True)\n",
    "\n",
    "idx = df['sseqid'] == 'QTV24999.1'\n",
    "df.loc[idx, 'Description'] = 'Kir2.1 C terminal export sequence'\n",
    "df.loc[idx, 'Feature'] = 'Kir2.1 C terminal export sequence'\n",
    "\n",
    "\n",
    "df = df.drop_duplicates(subset=['sseqid'])"
   ]
  },
  {
   "attachments": {},
   "cell_type": "markdown",
   "metadata": {},
   "source": [
    "# save csv"
   ]
  },
  {
   "cell_type": "code",
   "execution_count": 91,
   "metadata": {},
   "outputs": [],
   "source": [
    "custom_db_name = 'opsins'"
   ]
  },
  {
   "cell_type": "code",
   "execution_count": 92,
   "metadata": {},
   "outputs": [
    {
     "name": "stdout",
     "output_type": "stream",
     "text": [
      "Saved to /Users/alex/code/pLannotate/plannotate/data/data/opsins.csv\n"
     ]
    }
   ],
   "source": [
    "\n",
    "save_fp = get_resource('data', f'{custom_db_name}.csv')\n",
    "df.to_csv(save_fp, index=False)\n",
    "print(f\"Saved to {save_fp}\")"
   ]
  },
  {
   "attachments": {},
   "cell_type": "markdown",
   "metadata": {},
   "source": [
    "# save diamond db"
   ]
  },
  {
   "cell_type": "code",
   "execution_count": 93,
   "metadata": {},
   "outputs": [
    {
     "name": "stderr",
     "output_type": "stream",
     "text": [
      "diamond v2.1.7.161 (C) Max Planck Society for the Advancement of Science\n",
      "Documentation, support and updates available at http://www.diamondsearch.org\n",
      "Please cite: http://dx.doi.org/10.1038/s41592-021-01101-x Nature Methods (2021)\n",
      "\n",
      "#CPU threads: 10\n",
      "Scoring parameters: (Matrix=BLOSUM62 Lambda=0.267 K=0.041 Penalties=11/1)\n",
      "Database input file: /Users/alex/code/pLannotate/plannotate/data/data/opsins.fasta\n",
      "Opening the database file...  [0s]\n",
      "Loading sequences...  [0s]\n",
      "Masking sequences...  [0.002s]\n",
      "Writing sequences...  [0s]\n",
      "Hashing sequences...  [0s]\n",
      "Loading sequences...  [0s]\n",
      "Writing trailer...  [0s]\n",
      "Closing the input file...  [0s]\n",
      "Closing the database file...  [0s]\n",
      "\n",
      "Database sequences  157\n",
      "  Database letters  48862\n",
      "     Database hash  0cadf2d67891eebdac18bb005b25d0ef\n",
      "        Total time  0.003000s\n"
     ]
    },
    {
     "data": {
      "text/plain": [
       "0"
      ]
     },
     "execution_count": 93,
     "metadata": {},
     "output_type": "execute_result"
    }
   ],
   "source": [
    "\n",
    "\n",
    "fasta_fp = get_resource('data', f'{custom_db_name}.fasta')\n",
    "db_fp = get_resource('BLAST_dbs', f'{custom_db_name}')\n",
    "new_fasta.write(fasta_fp)\n",
    "command = f'diamond makedb --in {fasta_fp} -d {db_fp}'\n",
    "subprocess.call(command, shell=True)"
   ]
  },
  {
   "cell_type": "code",
   "execution_count": null,
   "metadata": {},
   "outputs": [],
   "source": []
  }
 ],
 "metadata": {
  "kernelspec": {
   "display_name": "plannotate-znk9a6Gv-py3.10",
   "language": "python",
   "name": "python3"
  },
  "language_info": {
   "codemirror_mode": {
    "name": "ipython",
    "version": 3
   },
   "file_extension": ".py",
   "mimetype": "text/x-python",
   "name": "python",
   "nbconvert_exporter": "python",
   "pygments_lexer": "ipython3",
   "version": "3.10.8"
  },
  "orig_nbformat": 4
 },
 "nbformat": 4,
 "nbformat_minor": 2
}
